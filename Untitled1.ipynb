{
 "cells": [
  {
   "cell_type": "code",
   "execution_count": 139,
   "metadata": {},
   "outputs": [],
   "source": [
    "puz = [[\"8\",\"3\",\".\",\".\",\"7\",\".\",\".\",\".\",\".\"],\n",
    "       [\"6\",\".\",\".\",\"1\",\"9\",\"5\",\".\",\".\",\".\"],\n",
    "       [\".\",\"9\",\"8\",\".\",\".\",\".\",\".\",\"6\",\".\"],\n",
    "       [\"8\",\".\",\".\",\".\",\"6\",\".\",\".\",\".\",\"3\"],\n",
    "       [\"4\",\".\",\".\",\"8\",\".\",\"3\",\".\",\".\",\"1\"],\n",
    "       [\"7\",\".\",\".\",\".\",\"2\",\".\",\".\",\".\",\"6\"],\n",
    "       [\".\",\"6\",\".\",\".\",\".\",\".\",\"2\",\"8\",\".\"],\n",
    "       [\".\",\".\",\".\",\"4\",\"1\",\"9\",\".\",\".\",\"5\"],\n",
    "       [\".\",\".\",\".\",\".\",\"8\",\".\",\".\",\"7\",\"9\"]]"
   ]
  },
  {
   "cell_type": "code",
   "execution_count": 145,
   "metadata": {},
   "outputs": [],
   "source": [
    "x = puz[0][0:3],puz[1][0:3],puz[2][0:3]"
   ]
  },
  {
   "cell_type": "code",
   "execution_count": 147,
   "metadata": {},
   "outputs": [],
   "source": [
    "flat_list = []\n",
    "for sublist in x:\n",
    "    for item in sublist:\n",
    "        flat_list.append(item)"
   ]
  },
  {
   "cell_type": "code",
   "execution_count": 108,
   "metadata": {},
   "outputs": [
    {
     "data": {
      "text/plain": [
       "['8', '3', '7']"
      ]
     },
     "execution_count": 108,
     "metadata": {},
     "output_type": "execute_result"
    }
   ],
   "source": [
    "flat_list"
   ]
  },
  {
   "cell_type": "code",
   "execution_count": 107,
   "metadata": {},
   "outputs": [],
   "source": [
    "while '.' in flat_list: flat_list.remove('.')"
   ]
  },
  {
   "cell_type": "code",
   "execution_count": 109,
   "metadata": {},
   "outputs": [
    {
     "data": {
      "text/plain": [
       "True"
      ]
     },
     "execution_count": 109,
     "metadata": {},
     "output_type": "execute_result"
    }
   ],
   "source": [
    "len(set(flat_list)) == len(flat_list)"
   ]
  },
  {
   "cell_type": "code",
   "execution_count": 79,
   "metadata": {},
   "outputs": [],
   "source": [
    "v_slice = []\n",
    "\n",
    "for i in list(range(len(puz))):\n",
    "    v_slice.append(puz[i][0])"
   ]
  },
  {
   "cell_type": "code",
   "execution_count": 80,
   "metadata": {},
   "outputs": [
    {
     "data": {
      "text/plain": [
       "['8', '6', '.', '8', '4', '7', '.', '.', '.']"
      ]
     },
     "execution_count": 80,
     "metadata": {},
     "output_type": "execute_result"
    }
   ],
   "source": [
    "v_slice"
   ]
  },
  {
   "cell_type": "code",
   "execution_count": 103,
   "metadata": {},
   "outputs": [],
   "source": [
    "x = puz[0]"
   ]
  },
  {
   "cell_type": "code",
   "execution_count": 88,
   "metadata": {},
   "outputs": [
    {
     "data": {
      "text/plain": [
       "['8', '3', '7']"
      ]
     },
     "execution_count": 88,
     "metadata": {},
     "output_type": "execute_result"
    }
   ],
   "source": [
    "list(set(flat_list))"
   ]
  },
  {
   "cell_type": "code",
   "execution_count": 101,
   "metadata": {},
   "outputs": [
    {
     "data": {
      "text/plain": [
       "4"
      ]
     },
     "execution_count": 101,
     "metadata": {},
     "output_type": "execute_result"
    }
   ],
   "source": [
    "len(set(flat_list))"
   ]
  },
  {
   "cell_type": "code",
   "execution_count": 119,
   "metadata": {},
   "outputs": [
    {
     "data": {
      "text/plain": [
       "[['8', '3', '7'],\n",
       " ['6', '1', '9', '5'],\n",
       " ['9', '8', '6'],\n",
       " ['8', '6', '3'],\n",
       " ['4', '8', '3', '1'],\n",
       " ['7', '2', '6'],\n",
       " ['6', '2', '8'],\n",
       " ['4', '1', '9', '5'],\n",
       " ['8', '7', '9']]"
      ]
     },
     "execution_count": 119,
     "metadata": {},
     "output_type": "execute_result"
    }
   ],
   "source": [
    "puz"
   ]
  },
  {
   "cell_type": "code",
   "execution_count": 122,
   "metadata": {},
   "outputs": [
    {
     "name": "stdout",
     "output_type": "stream",
     "text": [
      "['8', '6', '8', '4', '7']\n",
      "['3', '9', '6']\n",
      "['8']\n",
      "['1', '8', '4']\n",
      "['7', '9', '6', '2', '1', '8']\n",
      "['5', '3', '9']\n",
      "['2']\n",
      "['6', '8', '7']\n",
      "['3', '1', '6', '5', '9']\n"
     ]
    }
   ],
   "source": [
    "for n in list(range(len(puz))):\n",
    "    v_slice = []\n",
    "    for i in list(range(len(puz))):\n",
    "        v_slice.append(puz[i][n])\n",
    "    \n",
    "    while '.' in v_slice: v_slice.remove('.')\n",
    "    \n",
    "    print(v_slice)\n"
   ]
  },
  {
   "cell_type": "code",
   "execution_count": 133,
   "metadata": {},
   "outputs": [],
   "source": [
    "def sudokuValidator(puzzle):\n",
    "    \"\"\"\n",
    "    Validates whether or not a sudoku table is valid\n",
    "    Checks Verticle and Horizontal slices. \n",
    "    Also checks each 3x3 Square. \n",
    "    \n",
    "    Returns True or False\n",
    "    \"\"\"\n",
    "    # Horizontal Slice Check\n",
    "    \n",
    "    l_range = list(range(len(puzzle)))\n",
    "    \n",
    "    for i in l_range:\n",
    "        l = puz[i]\n",
    "        \n",
    "        #Removing the unfilled boxes\n",
    "        while '.' in l: l.remove('.')\n",
    "          \n",
    "        #Checking for duplicates\n",
    "        #If True, Keep Calm and Carry On\n",
    "        if len(set(l)) == len(l):\n",
    "            pass\n",
    "        \n",
    "        #Otherwise Return False\n",
    "        else:\n",
    "            return False\n",
    "        \n",
    "    # Vertical Slice Check\n",
    "    #Starting with a list comprehension\n",
    "    for n in l_range:\n",
    "        v_slice = []\n",
    "        for i in list(range(len(puzzle))):\n",
    "            v_slice.append(puzzle[i][n])\n",
    "    \n",
    "         v_slice = while '.' in v_slice: v_slice.remove('.')\n",
    "        \n",
    "        if len(set(v_slice)) == len(v_slice):\n",
    "            pass\n",
    "        else:\n",
    "            return False\n",
    "    \n",
    "    \n",
    "    pass"
   ]
  },
  {
   "cell_type": "code",
   "execution_count": 134,
   "metadata": {},
   "outputs": [
    {
     "data": {
      "text/plain": [
       "False"
      ]
     },
     "execution_count": 134,
     "metadata": {},
     "output_type": "execute_result"
    }
   ],
   "source": [
    "sudokuValidator(puz)"
   ]
  },
  {
   "cell_type": "code",
   "execution_count": 148,
   "metadata": {},
   "outputs": [],
   "source": [
    "l = list(filter(lambda x: x!= '.', flat_list))"
   ]
  },
  {
   "cell_type": "code",
   "execution_count": 149,
   "metadata": {},
   "outputs": [
    {
     "data": {
      "text/plain": [
       "(['8', '3', '.'], ['6', '.', '.'], ['.', '9', '8'])"
      ]
     },
     "execution_count": 149,
     "metadata": {},
     "output_type": "execute_result"
    }
   ],
   "source": [
    "x"
   ]
  },
  {
   "cell_type": "code",
   "execution_count": null,
   "metadata": {},
   "outputs": [],
   "source": []
  }
 ],
 "metadata": {
  "kernelspec": {
   "display_name": "Python 3",
   "language": "python",
   "name": "python3"
  },
  "language_info": {
   "codemirror_mode": {
    "name": "ipython",
    "version": 3
   },
   "file_extension": ".py",
   "mimetype": "text/x-python",
   "name": "python",
   "nbconvert_exporter": "python",
   "pygments_lexer": "ipython3",
   "version": "3.7.1"
  }
 },
 "nbformat": 4,
 "nbformat_minor": 2
}
