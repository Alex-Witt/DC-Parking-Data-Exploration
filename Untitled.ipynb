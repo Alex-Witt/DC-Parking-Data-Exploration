{
 "cells": [
  {
   "cell_type": "code",
   "execution_count": 2,
   "metadata": {},
   "outputs": [],
   "source": [
    "import pandas as pd\n",
    "import numpy as np\n",
    "import matplotlib \n",
    "import matplotlib.pyplot as plt\n",
    "\n",
    "from datetime import datetime"
   ]
  },
  {
   "cell_type": "markdown",
   "metadata": {},
   "source": [
    "The Washington DC government posts all of its public Data via the [Open Data Portal](https://opendata.dc.gov/). Parking Enforcement data is available in a variety of formats on a month by month basis. I downloaded that datasets in bulk and stitched them together into the dataset being imported below. I am hosting it for the time being on my personal dropbox. Over time, that may change. [Dataset](https://www.dropbox.com/s/9xzrr4u5n266yrq/Parking%20Violations.csv?dl=1)"
   ]
  },
  {
   "cell_type": "code",
   "execution_count": 7,
   "metadata": {},
   "outputs": [
    {
     "name": "stderr",
     "output_type": "stream",
     "text": [
      "/anaconda3/lib/python3.7/site-packages/IPython/core/interactiveshell.py:3020: DtypeWarning: Columns (4,13) have mixed types. Specify dtype option on import or set low_memory=False.\n",
      "  interactivity=interactivity, compiler=compiler, result=result)\n"
     ]
    }
   ],
   "source": [
    "df = pd.read_csv('/Users/azel/Documents/Data Sets/DC Data/Parking Enforcement/Combined /Parking Violations.csv')"
   ]
  },
  {
   "cell_type": "code",
   "execution_count": 4,
   "metadata": {},
   "outputs": [
    {
     "name": "stdout",
     "output_type": "stream",
     "text": [
      "\n",
      "<class 'pandas.core.frame.DataFrame'>\n",
      "RangeIndex: 14424762 entries, 0 to 14424761\n",
      "Data columns (total 19 columns):\n",
      "X                        float64\n",
      "Y                        float64\n",
      "OBJECTID                 int64\n",
      "ROWID_                   float64\n",
      "DAY_OF_WEEK              object\n",
      "HOLIDAY                  float64\n",
      "WEEK_OF_YEAR             float64\n",
      "MONTH_OF_YEAR            float64\n",
      "ISSUE_TIME               float64\n",
      "VIOLATION_CODE           object\n",
      "VIOLATION_DESCRIPTION    object\n",
      "LOCATION                 object\n",
      "RP_PLATE_STATE           object\n",
      "BODY_STYLE               object\n",
      "ADDRESS_ID               int64\n",
      "STREETSEGID              float64\n",
      "XCOORD                   int64\n",
      "YCOORD                   int64\n",
      "TICKET_ISSUE_DATE        object\n",
      "dtypes: float64(8), int64(4), object(7)\n",
      "memory usage: 2.0+ GB\n",
      "None\n",
      "\n",
      "X                              0\n",
      "Y                              0\n",
      "OBJECTID                       0\n",
      "ROWID_                   2595214\n",
      "DAY_OF_WEEK              4432946\n",
      "HOLIDAY                  4432946\n",
      "WEEK_OF_YEAR             4432946\n",
      "MONTH_OF_YEAR            4432946\n",
      "ISSUE_TIME               4441201\n",
      "VIOLATION_CODE                 0\n",
      "VIOLATION_DESCRIPTION     393266\n",
      "LOCATION                       0\n",
      "RP_PLATE_STATE             55183\n",
      "BODY_STYLE               4379039\n",
      "ADDRESS_ID                     0\n",
      "STREETSEGID                32725\n",
      "XCOORD                         0\n",
      "YCOORD                         0\n",
      "TICKET_ISSUE_DATE              0\n",
      "dtype: int64\n",
      "\n"
     ]
    },
    {
     "data": {
      "text/html": [
       "<div>\n",
       "<style scoped>\n",
       "    .dataframe tbody tr th:only-of-type {\n",
       "        vertical-align: middle;\n",
       "    }\n",
       "\n",
       "    .dataframe tbody tr th {\n",
       "        vertical-align: top;\n",
       "    }\n",
       "\n",
       "    .dataframe thead th {\n",
       "        text-align: right;\n",
       "    }\n",
       "</style>\n",
       "<table border=\"1\" class=\"dataframe\">\n",
       "  <thead>\n",
       "    <tr style=\"text-align: right;\">\n",
       "      <th></th>\n",
       "      <th>X</th>\n",
       "      <th>Y</th>\n",
       "      <th>OBJECTID</th>\n",
       "      <th>ROWID_</th>\n",
       "      <th>DAY_OF_WEEK</th>\n",
       "      <th>HOLIDAY</th>\n",
       "      <th>WEEK_OF_YEAR</th>\n",
       "      <th>MONTH_OF_YEAR</th>\n",
       "      <th>ISSUE_TIME</th>\n",
       "      <th>VIOLATION_CODE</th>\n",
       "      <th>VIOLATION_DESCRIPTION</th>\n",
       "      <th>LOCATION</th>\n",
       "      <th>RP_PLATE_STATE</th>\n",
       "      <th>BODY_STYLE</th>\n",
       "      <th>ADDRESS_ID</th>\n",
       "      <th>STREETSEGID</th>\n",
       "      <th>XCOORD</th>\n",
       "      <th>YCOORD</th>\n",
       "      <th>TICKET_ISSUE_DATE</th>\n",
       "    </tr>\n",
       "  </thead>\n",
       "  <tbody>\n",
       "    <tr>\n",
       "      <th>0</th>\n",
       "      <td>-76.990883</td>\n",
       "      <td>38.901329</td>\n",
       "      <td>24651355</td>\n",
       "      <td>15241.0</td>\n",
       "      <td>THURSDAY</td>\n",
       "      <td>0.0</td>\n",
       "      <td>36.0</td>\n",
       "      <td>9.0</td>\n",
       "      <td>2109.0</td>\n",
       "      <td>P012</td>\n",
       "      <td>DISOBEYING OFFICIAL SIGN</td>\n",
       "      <td>1200 BLOCK I ST NE NORTH SIDE</td>\n",
       "      <td>NY</td>\n",
       "      <td>4D</td>\n",
       "      <td>801937</td>\n",
       "      <td>2090.0</td>\n",
       "      <td>400791</td>\n",
       "      <td>137052</td>\n",
       "      <td>2011-09-01T00:00:00.000Z</td>\n",
       "    </tr>\n",
       "    <tr>\n",
       "      <th>1</th>\n",
       "      <td>-77.028853</td>\n",
       "      <td>38.917009</td>\n",
       "      <td>24651356</td>\n",
       "      <td>15242.0</td>\n",
       "      <td>THURSDAY</td>\n",
       "      <td>0.0</td>\n",
       "      <td>36.0</td>\n",
       "      <td>9.0</td>\n",
       "      <td>2158.0</td>\n",
       "      <td>P039</td>\n",
       "      <td>PARK AT EXPIRED METER</td>\n",
       "      <td>1300 BLOCK U ST NW NORTH SIDE</td>\n",
       "      <td>MD</td>\n",
       "      <td>4D</td>\n",
       "      <td>809133</td>\n",
       "      <td>7819.0</td>\n",
       "      <td>397498</td>\n",
       "      <td>138793</td>\n",
       "      <td>2011-09-01T00:00:00.000Z</td>\n",
       "    </tr>\n",
       "    <tr>\n",
       "      <th>2</th>\n",
       "      <td>-77.013880</td>\n",
       "      <td>38.888564</td>\n",
       "      <td>24651357</td>\n",
       "      <td>15243.0</td>\n",
       "      <td>THURSDAY</td>\n",
       "      <td>0.0</td>\n",
       "      <td>36.0</td>\n",
       "      <td>9.0</td>\n",
       "      <td>927.0</td>\n",
       "      <td>P036</td>\n",
       "      <td>PARK IN OFFICIAL PARKING PERMIT ONLY SPACE</td>\n",
       "      <td>200 MARYLAND AV SW</td>\n",
       "      <td>DC</td>\n",
       "      <td>TK</td>\n",
       "      <td>801240</td>\n",
       "      <td>1186.0</td>\n",
       "      <td>398796</td>\n",
       "      <td>135635</td>\n",
       "      <td>2011-09-01T00:00:00.000Z</td>\n",
       "    </tr>\n",
       "    <tr>\n",
       "      <th>3</th>\n",
       "      <td>-77.054309</td>\n",
       "      <td>38.926666</td>\n",
       "      <td>24651358</td>\n",
       "      <td>15244.0</td>\n",
       "      <td>THURSDAY</td>\n",
       "      <td>0.0</td>\n",
       "      <td>36.0</td>\n",
       "      <td>9.0</td>\n",
       "      <td>107.0</td>\n",
       "      <td>P172</td>\n",
       "      <td>FAILURE TO SECURE DC TAGS</td>\n",
       "      <td>2600 BLOCK GARFIELD ST NW NORTH SID</td>\n",
       "      <td>NJ</td>\n",
       "      <td>4D</td>\n",
       "      <td>806063</td>\n",
       "      <td>5205.0</td>\n",
       "      <td>395291</td>\n",
       "      <td>139866</td>\n",
       "      <td>2011-09-01T00:00:00.000Z</td>\n",
       "    </tr>\n",
       "    <tr>\n",
       "      <th>4</th>\n",
       "      <td>-77.023957</td>\n",
       "      <td>38.897877</td>\n",
       "      <td>24651359</td>\n",
       "      <td>15245.0</td>\n",
       "      <td>THURSDAY</td>\n",
       "      <td>0.0</td>\n",
       "      <td>36.0</td>\n",
       "      <td>9.0</td>\n",
       "      <td>1011.0</td>\n",
       "      <td>P199</td>\n",
       "      <td>PARK IN A DESIGNATED ENTRANCE</td>\n",
       "      <td>700 9TH ST NW BLOCK EAST SIDE</td>\n",
       "      <td>DC</td>\n",
       "      <td>NaN</td>\n",
       "      <td>813593</td>\n",
       "      <td>11702.0</td>\n",
       "      <td>397922</td>\n",
       "      <td>136669</td>\n",
       "      <td>2011-09-01T00:00:00.000Z</td>\n",
       "    </tr>\n",
       "  </tbody>\n",
       "</table>\n",
       "</div>"
      ],
      "text/plain": [
       "           X          Y  OBJECTID   ROWID_ DAY_OF_WEEK  HOLIDAY  WEEK_OF_YEAR  \\\n",
       "0 -76.990883  38.901329  24651355  15241.0    THURSDAY      0.0          36.0   \n",
       "1 -77.028853  38.917009  24651356  15242.0    THURSDAY      0.0          36.0   \n",
       "2 -77.013880  38.888564  24651357  15243.0    THURSDAY      0.0          36.0   \n",
       "3 -77.054309  38.926666  24651358  15244.0    THURSDAY      0.0          36.0   \n",
       "4 -77.023957  38.897877  24651359  15245.0    THURSDAY      0.0          36.0   \n",
       "\n",
       "   MONTH_OF_YEAR  ISSUE_TIME VIOLATION_CODE  \\\n",
       "0            9.0      2109.0           P012   \n",
       "1            9.0      2158.0           P039   \n",
       "2            9.0       927.0           P036   \n",
       "3            9.0       107.0           P172   \n",
       "4            9.0      1011.0           P199   \n",
       "\n",
       "                        VIOLATION_DESCRIPTION  \\\n",
       "0                    DISOBEYING OFFICIAL SIGN   \n",
       "1                       PARK AT EXPIRED METER   \n",
       "2  PARK IN OFFICIAL PARKING PERMIT ONLY SPACE   \n",
       "3                   FAILURE TO SECURE DC TAGS   \n",
       "4               PARK IN A DESIGNATED ENTRANCE   \n",
       "\n",
       "                              LOCATION RP_PLATE_STATE BODY_STYLE  ADDRESS_ID  \\\n",
       "0        1200 BLOCK I ST NE NORTH SIDE             NY         4D      801937   \n",
       "1        1300 BLOCK U ST NW NORTH SIDE             MD         4D      809133   \n",
       "2                   200 MARYLAND AV SW             DC         TK      801240   \n",
       "3  2600 BLOCK GARFIELD ST NW NORTH SID             NJ         4D      806063   \n",
       "4        700 9TH ST NW BLOCK EAST SIDE             DC        NaN      813593   \n",
       "\n",
       "   STREETSEGID  XCOORD  YCOORD         TICKET_ISSUE_DATE  \n",
       "0       2090.0  400791  137052  2011-09-01T00:00:00.000Z  \n",
       "1       7819.0  397498  138793  2011-09-01T00:00:00.000Z  \n",
       "2       1186.0  398796  135635  2011-09-01T00:00:00.000Z  \n",
       "3       5205.0  395291  139866  2011-09-01T00:00:00.000Z  \n",
       "4      11702.0  397922  136669  2011-09-01T00:00:00.000Z  "
      ]
     },
     "execution_count": 4,
     "metadata": {},
     "output_type": "execute_result"
    }
   ],
   "source": [
    "print()\n",
    "print(data.info())\n",
    "print()\n",
    "print(data.isnull().sum())\n",
    "print()\n",
    "data.head()"
   ]
  },
  {
   "cell_type": "code",
   "execution_count": 4,
   "metadata": {},
   "outputs": [],
   "source": [
    "df = data[['TICKET_ISSUE_DATE']]"
   ]
  },
  {
   "cell_type": "code",
   "execution_count": 8,
   "metadata": {},
   "outputs": [
    {
     "name": "stdout",
     "output_type": "stream",
     "text": [
      "CPU times: user 22 s, sys: 472 ms, total: 22.5 s\n",
      "Wall time: 21.3 s\n"
     ]
    }
   ],
   "source": [
    "%%time\n",
    "df['TICKET_ISSUE_DATE'] = pd.to_datetime(df['TICKET_ISSUE_DATE'],infer_datetime_format = True)"
   ]
  },
  {
   "cell_type": "code",
   "execution_count": 9,
   "metadata": {
    "scrolled": true
   },
   "outputs": [
    {
     "name": "stdout",
     "output_type": "stream",
     "text": [
      "CPU times: user 222 ms, sys: 129 ms, total: 351 ms\n",
      "Wall time: 90.1 ms\n"
     ]
    }
   ],
   "source": [
    "%%time\n",
    "df['TICKET_ISSUE_DATE'] = pd.to_datetime(df['TICKET_ISSUE_DATE'])"
   ]
  },
  {
   "cell_type": "code",
   "execution_count": 10,
   "metadata": {},
   "outputs": [
    {
     "name": "stdout",
     "output_type": "stream",
     "text": [
      "<class 'pandas.core.frame.DataFrame'>\n",
      "RangeIndex: 14424762 entries, 0 to 14424761\n",
      "Data columns (total 19 columns):\n",
      "X                        float64\n",
      "Y                        float64\n",
      "OBJECTID                 int64\n",
      "ROWID_                   float64\n",
      "DAY_OF_WEEK              object\n",
      "HOLIDAY                  float64\n",
      "WEEK_OF_YEAR             float64\n",
      "MONTH_OF_YEAR            float64\n",
      "ISSUE_TIME               float64\n",
      "VIOLATION_CODE           object\n",
      "VIOLATION_DESCRIPTION    object\n",
      "LOCATION                 object\n",
      "RP_PLATE_STATE           object\n",
      "BODY_STYLE               object\n",
      "ADDRESS_ID               int64\n",
      "STREETSEGID              float64\n",
      "XCOORD                   int64\n",
      "YCOORD                   int64\n",
      "TICKET_ISSUE_DATE        datetime64[ns]\n",
      "dtypes: datetime64[ns](1), float64(8), int64(4), object(6)\n",
      "memory usage: 2.0+ GB\n"
     ]
    }
   ],
   "source": [
    "df.info()"
   ]
  },
  {
   "cell_type": "code",
   "execution_count": 39,
   "metadata": {},
   "outputs": [],
   "source": [
    "from datetime import datetime"
   ]
  },
  {
   "cell_type": "code",
   "execution_count": 47,
   "metadata": {},
   "outputs": [],
   "source": [
    "datetime_dtypes = ['<M8[ns]','datetime64[ns]']"
   ]
  },
  {
   "cell_type": "code",
   "execution_count": 13,
   "metadata": {},
   "outputs": [],
   "source": [
    "derp = df['TICKET_ISSUE_DATE'].map(lambda x: x.strftime('%Y'))"
   ]
  },
  {
   "cell_type": "code",
   "execution_count": 55,
   "metadata": {},
   "outputs": [
    {
     "data": {
      "text/plain": [
       "False"
      ]
     },
     "execution_count": 55,
     "metadata": {},
     "output_type": "execute_result"
    }
   ],
   "source": [
    "df['TICKET_ISSUE_DATE'].dtype.str == 'datetime64[ns]'"
   ]
  },
  {
   "cell_type": "code",
   "execution_count": 10,
   "metadata": {
    "scrolled": true
   },
   "outputs": [
    {
     "name": "stdout",
     "output_type": "stream",
     "text": [
      "CPU times: user 1min 31s, sys: 2.28 s, total: 1min 34s\n",
      "Wall time: 1min 34s\n"
     ]
    }
   ],
   "source": [
    "%%time\n",
    "df['YEAR'] = df['TICKET_ISSUE_DATE'].map(lambda x: x.strftime('%Y'))\n"
   ]
  },
  {
   "cell_type": "code",
   "execution_count": 11,
   "metadata": {},
   "outputs": [
    {
     "data": {
      "text/plain": [
       "0           2011\n",
       "1           2011\n",
       "2           2011\n",
       "3           2011\n",
       "4           2011\n",
       "5           2011\n",
       "6           2011\n",
       "7           2011\n",
       "8           2011\n",
       "9           2011\n",
       "10          2011\n",
       "11          2011\n",
       "12          2011\n",
       "13          2011\n",
       "14          2011\n",
       "15          2011\n",
       "16          2011\n",
       "17          2011\n",
       "18          2011\n",
       "19          2011\n",
       "20          2011\n",
       "21          2011\n",
       "22          2011\n",
       "23          2011\n",
       "24          2011\n",
       "25          2011\n",
       "26          2011\n",
       "27          2011\n",
       "28          2011\n",
       "29          2011\n",
       "            ... \n",
       "14424732    2013\n",
       "14424733    2013\n",
       "14424734    2013\n",
       "14424735    2013\n",
       "14424736    2013\n",
       "14424737    2013\n",
       "14424738    2013\n",
       "14424739    2013\n",
       "14424740    2013\n",
       "14424741    2013\n",
       "14424742    2013\n",
       "14424743    2013\n",
       "14424744    2013\n",
       "14424745    2013\n",
       "14424746    2013\n",
       "14424747    2013\n",
       "14424748    2013\n",
       "14424749    2013\n",
       "14424750    2013\n",
       "14424751    2013\n",
       "14424752    2013\n",
       "14424753    2013\n",
       "14424754    2013\n",
       "14424755    2013\n",
       "14424756    2013\n",
       "14424757    2013\n",
       "14424758    2013\n",
       "14424759    2013\n",
       "14424760    2013\n",
       "14424761    2013\n",
       "Name: YEAR, Length: 14424762, dtype: object"
      ]
     },
     "execution_count": 11,
     "metadata": {},
     "output_type": "execute_result"
    }
   ],
   "source": [
    "df['YEAR']"
   ]
  },
  {
   "cell_type": "code",
   "execution_count": 12,
   "metadata": {},
   "outputs": [
    {
     "name": "stdout",
     "output_type": "stream",
     "text": [
      "CPU times: user 1min 26s, sys: 1.74 s, total: 1min 27s\n",
      "Wall time: 1min 28s\n"
     ]
    },
    {
     "data": {
      "text/plain": [
       "0           01\n",
       "1           01\n",
       "2           01\n",
       "3           01\n",
       "4           01\n",
       "5           01\n",
       "6           01\n",
       "7           01\n",
       "8           01\n",
       "9           01\n",
       "10          01\n",
       "11          01\n",
       "12          01\n",
       "13          01\n",
       "14          01\n",
       "15          01\n",
       "16          01\n",
       "17          01\n",
       "18          01\n",
       "19          01\n",
       "20          01\n",
       "21          01\n",
       "22          01\n",
       "23          01\n",
       "24          01\n",
       "25          01\n",
       "26          01\n",
       "27          01\n",
       "28          01\n",
       "29          01\n",
       "            ..\n",
       "14424732    01\n",
       "14424733    01\n",
       "14424734    01\n",
       "14424735    01\n",
       "14424736    01\n",
       "14424737    01\n",
       "14424738    01\n",
       "14424739    01\n",
       "14424740    01\n",
       "14424741    01\n",
       "14424742    01\n",
       "14424743    01\n",
       "14424744    01\n",
       "14424745    01\n",
       "14424746    01\n",
       "14424747    01\n",
       "14424748    01\n",
       "14424749    01\n",
       "14424750    01\n",
       "14424751    01\n",
       "14424752    01\n",
       "14424753    01\n",
       "14424754    01\n",
       "14424755    01\n",
       "14424756    01\n",
       "14424757    01\n",
       "14424758    01\n",
       "14424759    01\n",
       "14424760    01\n",
       "14424761    01\n",
       "Name: TICKET_ISSUE_DATE, Length: 14424762, dtype: object"
      ]
     },
     "execution_count": 12,
     "metadata": {},
     "output_type": "execute_result"
    }
   ],
   "source": [
    "%%time \n",
    "df['TICKET_ISSUE_DATE'].apply(lambda x: x.strftime('%m'))"
   ]
  },
  {
   "cell_type": "code",
   "execution_count": null,
   "metadata": {},
   "outputs": [],
   "source": []
  }
 ],
 "metadata": {
  "kernelspec": {
   "display_name": "Python 3",
   "language": "python",
   "name": "python3"
  },
  "language_info": {
   "codemirror_mode": {
    "name": "ipython",
    "version": 3
   },
   "file_extension": ".py",
   "mimetype": "text/x-python",
   "name": "python",
   "nbconvert_exporter": "python",
   "pygments_lexer": "ipython3",
   "version": "3.7.1"
  }
 },
 "nbformat": 4,
 "nbformat_minor": 2
}
